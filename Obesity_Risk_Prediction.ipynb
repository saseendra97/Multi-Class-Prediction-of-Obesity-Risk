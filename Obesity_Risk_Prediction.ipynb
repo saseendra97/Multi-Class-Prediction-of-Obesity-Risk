{
 "cells": [
  {
   "cell_type": "code",
   "execution_count": 36,
   "id": "67181d39",
   "metadata": {
    "execution": {
     "iopub.execute_input": "2024-02-29T07:52:04.974332Z",
     "iopub.status.busy": "2024-02-29T07:52:04.973659Z",
     "iopub.status.idle": "2024-02-29T07:52:07.651962Z",
     "shell.execute_reply": "2024-02-29T07:52:07.650552Z"
    },
    "id": "dea6a403",
    "papermill": {
     "duration": 2.696431,
     "end_time": "2024-02-29T07:52:07.655169",
     "exception": false,
     "start_time": "2024-02-29T07:52:04.958738",
     "status": "completed"
    },
    "tags": []
   },
   "outputs": [],
   "source": [
    "import pandas as pd\n",
    "import numpy as np\n",
    "import seaborn as sns\n",
    "import matplotlib.pyplot as plt"
   ]
  },
  {
   "cell_type": "code",
   "execution_count": 37,
   "id": "7054ec95",
   "metadata": {
    "execution": {
     "iopub.execute_input": "2024-02-29T07:52:07.680827Z",
     "iopub.status.busy": "2024-02-29T07:52:07.680297Z",
     "iopub.status.idle": "2024-02-29T07:52:07.899460Z",
     "shell.execute_reply": "2024-02-29T07:52:07.898137Z"
    },
    "id": "8ce95e59",
    "papermill": {
     "duration": 0.235909,
     "end_time": "2024-02-29T07:52:07.902985",
     "exception": false,
     "start_time": "2024-02-29T07:52:07.667076",
     "status": "completed"
    },
    "tags": []
   },
   "outputs": [],
   "source": [
    "train_df = pd.read_csv('train.csv')\n",
    "test_df = pd.read_csv('test.csv')"
   ]
  },
  {
   "cell_type": "code",
   "execution_count": 38,
   "id": "ca2a7f5f",
   "metadata": {
    "execution": {
     "iopub.execute_input": "2024-02-29T07:52:07.928688Z",
     "iopub.status.busy": "2024-02-29T07:52:07.928297Z",
     "iopub.status.idle": "2024-02-29T07:52:07.960535Z",
     "shell.execute_reply": "2024-02-29T07:52:07.959324Z"
    },
    "id": "92f1f098",
    "outputId": "b12c8220-4f53-457d-bc26-2459a7580927",
    "papermill": {
     "duration": 0.048748,
     "end_time": "2024-02-29T07:52:07.963618",
     "exception": false,
     "start_time": "2024-02-29T07:52:07.914870",
     "status": "completed"
    },
    "tags": []
   },
   "outputs": [
    {
     "data": {
      "text/html": [
       "<div>\n",
       "<style scoped>\n",
       "    .dataframe tbody tr th:only-of-type {\n",
       "        vertical-align: middle;\n",
       "    }\n",
       "\n",
       "    .dataframe tbody tr th {\n",
       "        vertical-align: top;\n",
       "    }\n",
       "\n",
       "    .dataframe thead th {\n",
       "        text-align: right;\n",
       "    }\n",
       "</style>\n",
       "<table border=\"1\" class=\"dataframe\">\n",
       "  <thead>\n",
       "    <tr style=\"text-align: right;\">\n",
       "      <th></th>\n",
       "      <th>id</th>\n",
       "      <th>Gender</th>\n",
       "      <th>Age</th>\n",
       "      <th>Height</th>\n",
       "      <th>Weight</th>\n",
       "      <th>family_history_with_overweight</th>\n",
       "      <th>FAVC</th>\n",
       "      <th>FCVC</th>\n",
       "      <th>NCP</th>\n",
       "      <th>CAEC</th>\n",
       "      <th>SMOKE</th>\n",
       "      <th>CH2O</th>\n",
       "      <th>SCC</th>\n",
       "      <th>FAF</th>\n",
       "      <th>TUE</th>\n",
       "      <th>CALC</th>\n",
       "      <th>MTRANS</th>\n",
       "      <th>NObeyesdad</th>\n",
       "    </tr>\n",
       "  </thead>\n",
       "  <tbody>\n",
       "    <tr>\n",
       "      <th>0</th>\n",
       "      <td>0</td>\n",
       "      <td>Male</td>\n",
       "      <td>24.443011</td>\n",
       "      <td>1.699998</td>\n",
       "      <td>81.669950</td>\n",
       "      <td>yes</td>\n",
       "      <td>yes</td>\n",
       "      <td>2.000000</td>\n",
       "      <td>2.983297</td>\n",
       "      <td>Sometimes</td>\n",
       "      <td>no</td>\n",
       "      <td>2.763573</td>\n",
       "      <td>no</td>\n",
       "      <td>0.000000</td>\n",
       "      <td>0.976473</td>\n",
       "      <td>Sometimes</td>\n",
       "      <td>Public_Transportation</td>\n",
       "      <td>Overweight_Level_II</td>\n",
       "    </tr>\n",
       "    <tr>\n",
       "      <th>1</th>\n",
       "      <td>1</td>\n",
       "      <td>Female</td>\n",
       "      <td>18.000000</td>\n",
       "      <td>1.560000</td>\n",
       "      <td>57.000000</td>\n",
       "      <td>yes</td>\n",
       "      <td>yes</td>\n",
       "      <td>2.000000</td>\n",
       "      <td>3.000000</td>\n",
       "      <td>Frequently</td>\n",
       "      <td>no</td>\n",
       "      <td>2.000000</td>\n",
       "      <td>no</td>\n",
       "      <td>1.000000</td>\n",
       "      <td>1.000000</td>\n",
       "      <td>no</td>\n",
       "      <td>Automobile</td>\n",
       "      <td>Normal_Weight</td>\n",
       "    </tr>\n",
       "    <tr>\n",
       "      <th>2</th>\n",
       "      <td>2</td>\n",
       "      <td>Female</td>\n",
       "      <td>18.000000</td>\n",
       "      <td>1.711460</td>\n",
       "      <td>50.165754</td>\n",
       "      <td>yes</td>\n",
       "      <td>yes</td>\n",
       "      <td>1.880534</td>\n",
       "      <td>1.411685</td>\n",
       "      <td>Sometimes</td>\n",
       "      <td>no</td>\n",
       "      <td>1.910378</td>\n",
       "      <td>no</td>\n",
       "      <td>0.866045</td>\n",
       "      <td>1.673584</td>\n",
       "      <td>no</td>\n",
       "      <td>Public_Transportation</td>\n",
       "      <td>Insufficient_Weight</td>\n",
       "    </tr>\n",
       "    <tr>\n",
       "      <th>3</th>\n",
       "      <td>3</td>\n",
       "      <td>Female</td>\n",
       "      <td>20.952737</td>\n",
       "      <td>1.710730</td>\n",
       "      <td>131.274851</td>\n",
       "      <td>yes</td>\n",
       "      <td>yes</td>\n",
       "      <td>3.000000</td>\n",
       "      <td>3.000000</td>\n",
       "      <td>Sometimes</td>\n",
       "      <td>no</td>\n",
       "      <td>1.674061</td>\n",
       "      <td>no</td>\n",
       "      <td>1.467863</td>\n",
       "      <td>0.780199</td>\n",
       "      <td>Sometimes</td>\n",
       "      <td>Public_Transportation</td>\n",
       "      <td>Obesity_Type_III</td>\n",
       "    </tr>\n",
       "    <tr>\n",
       "      <th>4</th>\n",
       "      <td>4</td>\n",
       "      <td>Male</td>\n",
       "      <td>31.641081</td>\n",
       "      <td>1.914186</td>\n",
       "      <td>93.798055</td>\n",
       "      <td>yes</td>\n",
       "      <td>yes</td>\n",
       "      <td>2.679664</td>\n",
       "      <td>1.971472</td>\n",
       "      <td>Sometimes</td>\n",
       "      <td>no</td>\n",
       "      <td>1.979848</td>\n",
       "      <td>no</td>\n",
       "      <td>1.967973</td>\n",
       "      <td>0.931721</td>\n",
       "      <td>Sometimes</td>\n",
       "      <td>Public_Transportation</td>\n",
       "      <td>Overweight_Level_II</td>\n",
       "    </tr>\n",
       "  </tbody>\n",
       "</table>\n",
       "</div>"
      ],
      "text/plain": [
       "   id  Gender        Age    Height      Weight family_history_with_overweight  \\\n",
       "0   0    Male  24.443011  1.699998   81.669950                            yes   \n",
       "1   1  Female  18.000000  1.560000   57.000000                            yes   \n",
       "2   2  Female  18.000000  1.711460   50.165754                            yes   \n",
       "3   3  Female  20.952737  1.710730  131.274851                            yes   \n",
       "4   4    Male  31.641081  1.914186   93.798055                            yes   \n",
       "\n",
       "  FAVC      FCVC       NCP        CAEC SMOKE      CH2O SCC       FAF  \\\n",
       "0  yes  2.000000  2.983297   Sometimes    no  2.763573  no  0.000000   \n",
       "1  yes  2.000000  3.000000  Frequently    no  2.000000  no  1.000000   \n",
       "2  yes  1.880534  1.411685   Sometimes    no  1.910378  no  0.866045   \n",
       "3  yes  3.000000  3.000000   Sometimes    no  1.674061  no  1.467863   \n",
       "4  yes  2.679664  1.971472   Sometimes    no  1.979848  no  1.967973   \n",
       "\n",
       "        TUE       CALC                 MTRANS           NObeyesdad  \n",
       "0  0.976473  Sometimes  Public_Transportation  Overweight_Level_II  \n",
       "1  1.000000         no             Automobile        Normal_Weight  \n",
       "2  1.673584         no  Public_Transportation  Insufficient_Weight  \n",
       "3  0.780199  Sometimes  Public_Transportation     Obesity_Type_III  \n",
       "4  0.931721  Sometimes  Public_Transportation  Overweight_Level_II  "
      ]
     },
     "execution_count": 38,
     "metadata": {},
     "output_type": "execute_result"
    }
   ],
   "source": [
    "train_df.head()"
   ]
  },
  {
   "cell_type": "code",
   "execution_count": 39,
   "id": "3584be4e",
   "metadata": {
    "execution": {
     "iopub.execute_input": "2024-02-29T07:52:07.990762Z",
     "iopub.status.busy": "2024-02-29T07:52:07.989429Z",
     "iopub.status.idle": "2024-02-29T07:52:08.024393Z",
     "shell.execute_reply": "2024-02-29T07:52:08.023260Z"
    },
    "id": "e86b9d3b",
    "outputId": "f5d3ec4d-f0a8-4e24-91ba-1d25987acf77",
    "papermill": {
     "duration": 0.051333,
     "end_time": "2024-02-29T07:52:08.027041",
     "exception": false,
     "start_time": "2024-02-29T07:52:07.975708",
     "status": "completed"
    },
    "tags": []
   },
   "outputs": [
    {
     "data": {
      "text/plain": [
       "id                                0\n",
       "Gender                            0\n",
       "Age                               0\n",
       "Height                            0\n",
       "Weight                            0\n",
       "family_history_with_overweight    0\n",
       "FAVC                              0\n",
       "FCVC                              0\n",
       "NCP                               0\n",
       "CAEC                              0\n",
       "SMOKE                             0\n",
       "CH2O                              0\n",
       "SCC                               0\n",
       "FAF                               0\n",
       "TUE                               0\n",
       "CALC                              0\n",
       "MTRANS                            0\n",
       "NObeyesdad                        0\n",
       "dtype: int64"
      ]
     },
     "execution_count": 39,
     "metadata": {},
     "output_type": "execute_result"
    }
   ],
   "source": [
    "train_df.isna().sum()"
   ]
  },
  {
   "cell_type": "code",
   "execution_count": 40,
   "id": "ec4bc1da",
   "metadata": {
    "execution": {
     "iopub.execute_input": "2024-02-29T07:52:08.054054Z",
     "iopub.status.busy": "2024-02-29T07:52:08.053624Z",
     "iopub.status.idle": "2024-02-29T07:52:08.077680Z",
     "shell.execute_reply": "2024-02-29T07:52:08.076340Z"
    },
    "id": "2e99cc33",
    "outputId": "2e9a5ec2-6850-4873-cef5-8646668fd456",
    "papermill": {
     "duration": 0.041323,
     "end_time": "2024-02-29T07:52:08.080816",
     "exception": false,
     "start_time": "2024-02-29T07:52:08.039493",
     "status": "completed"
    },
    "tags": []
   },
   "outputs": [
    {
     "data": {
      "text/plain": [
       "id                                0\n",
       "Gender                            0\n",
       "Age                               0\n",
       "Height                            0\n",
       "Weight                            0\n",
       "family_history_with_overweight    0\n",
       "FAVC                              0\n",
       "FCVC                              0\n",
       "NCP                               0\n",
       "CAEC                              0\n",
       "SMOKE                             0\n",
       "CH2O                              0\n",
       "SCC                               0\n",
       "FAF                               0\n",
       "TUE                               0\n",
       "CALC                              0\n",
       "MTRANS                            0\n",
       "dtype: int64"
      ]
     },
     "execution_count": 40,
     "metadata": {},
     "output_type": "execute_result"
    }
   ],
   "source": [
    "test_df.isna().sum()"
   ]
  },
  {
   "cell_type": "code",
   "execution_count": 41,
   "id": "b44c5605",
   "metadata": {
    "execution": {
     "iopub.execute_input": "2024-02-29T07:52:08.107950Z",
     "iopub.status.busy": "2024-02-29T07:52:08.107518Z",
     "iopub.status.idle": "2024-02-29T07:52:08.118418Z",
     "shell.execute_reply": "2024-02-29T07:52:08.116776Z"
    },
    "id": "16dc208e",
    "outputId": "abd2303b-7579-4a51-a8bb-9904ce1802a7",
    "papermill": {
     "duration": 0.027601,
     "end_time": "2024-02-29T07:52:08.121054",
     "exception": false,
     "start_time": "2024-02-29T07:52:08.093453",
     "status": "completed"
    },
    "tags": []
   },
   "outputs": [
    {
     "data": {
      "text/plain": [
       "id                                  int64\n",
       "Gender                             object\n",
       "Age                               float64\n",
       "Height                            float64\n",
       "Weight                            float64\n",
       "family_history_with_overweight     object\n",
       "FAVC                               object\n",
       "FCVC                              float64\n",
       "NCP                               float64\n",
       "CAEC                               object\n",
       "SMOKE                              object\n",
       "CH2O                              float64\n",
       "SCC                                object\n",
       "FAF                               float64\n",
       "TUE                               float64\n",
       "CALC                               object\n",
       "MTRANS                             object\n",
       "NObeyesdad                         object\n",
       "dtype: object"
      ]
     },
     "execution_count": 41,
     "metadata": {},
     "output_type": "execute_result"
    }
   ],
   "source": [
    "train_df.dtypes"
   ]
  },
  {
   "cell_type": "code",
   "execution_count": null,
   "id": "920c92ad",
   "metadata": {
    "id": "d5e12949",
    "papermill": {
     "duration": 0.012416,
     "end_time": "2024-02-29T07:52:08.146565",
     "exception": false,
     "start_time": "2024-02-29T07:52:08.134149",
     "status": "completed"
    },
    "tags": []
   },
   "outputs": [],
   "source": []
  },
  {
   "cell_type": "code",
   "execution_count": 42,
   "id": "fa93dc24",
   "metadata": {
    "execution": {
     "iopub.execute_input": "2024-02-29T07:52:08.175430Z",
     "iopub.status.busy": "2024-02-29T07:52:08.173922Z",
     "iopub.status.idle": "2024-02-29T07:52:08.558141Z",
     "shell.execute_reply": "2024-02-29T07:52:08.556718Z"
    },
    "id": "a956817f",
    "papermill": {
     "duration": 0.401169,
     "end_time": "2024-02-29T07:52:08.561153",
     "exception": false,
     "start_time": "2024-02-29T07:52:08.159984",
     "status": "completed"
    },
    "tags": []
   },
   "outputs": [],
   "source": [
    "import pandas as pd\n",
    "from sklearn.preprocessing import LabelEncoder\n",
    "\n",
    "\n",
    "label_encoder = LabelEncoder()\n",
    "binary_columns = ['Gender', 'family_history_with_overweight', 'FAVC', 'SMOKE', 'SCC']\n",
    "for col in binary_columns:\n",
    "    train_df[col] = label_encoder.fit_transform(train_df[col])\n",
    "    test_df[col] = label_encoder.fit_transform(test_df[col])\n",
    "nominal_columns = ['CAEC', 'CALC', 'MTRANS']\n",
    "train_df = pd.get_dummies(train_df, columns=nominal_columns)\n",
    "test_df = pd.get_dummies(test_df, columns=nominal_columns)\n",
    "\n",
    "target_encoder = LabelEncoder()\n",
    "train_df['NObeyesdad'] = target_encoder.fit_transform(train_df['NObeyesdad'])\n",
    "\n"
   ]
  },
  {
   "cell_type": "code",
   "execution_count": 43,
   "id": "9981182d",
   "metadata": {
    "id": "zTl8CpWo2vbt",
    "outputId": "3623b04a-8a33-40b6-916f-0486918ea0f7",
    "papermill": {
     "duration": 0.012176,
     "end_time": "2024-02-29T07:52:08.586557",
     "exception": false,
     "start_time": "2024-02-29T07:52:08.574381",
     "status": "completed"
    },
    "tags": []
   },
   "outputs": [
    {
     "name": "stdout",
     "output_type": "stream",
     "text": [
      "Requirement already satisfied: xgboost in /Users/bobby/opt/anaconda3/lib/python3.9/site-packages (2.0.3)\n",
      "Requirement already satisfied: numpy in /Users/bobby/opt/anaconda3/lib/python3.9/site-packages (from xgboost) (1.21.5)\n",
      "Requirement already satisfied: scipy in /Users/bobby/opt/anaconda3/lib/python3.9/site-packages (from xgboost) (1.7.3)\n",
      "Note: you may need to restart the kernel to use updated packages.\n"
     ]
    }
   ],
   "source": [
    "pip install xgboost"
   ]
  },
  {
   "cell_type": "code",
   "execution_count": 44,
   "id": "51949e32",
   "metadata": {
    "execution": {
     "iopub.execute_input": "2024-02-29T07:52:08.614163Z",
     "iopub.status.busy": "2024-02-29T07:52:08.613765Z",
     "iopub.status.idle": "2024-02-29T07:52:08.629345Z",
     "shell.execute_reply": "2024-02-29T07:52:08.627536Z"
    },
    "id": "ee473ffe",
    "outputId": "3e36abd4-61a1-4871-f6be-c6a3e0538451",
    "papermill": {
     "duration": 0.033457,
     "end_time": "2024-02-29T07:52:08.632992",
     "exception": false,
     "start_time": "2024-02-29T07:52:08.599535",
     "status": "completed"
    },
    "tags": []
   },
   "outputs": [
    {
     "name": "stdout",
     "output_type": "stream",
     "text": [
      "Number of outliers in 'Weight': 0\n"
     ]
    }
   ],
   "source": [
    "\n",
    "Q1 = train_df['Weight'].quantile(0.25)\n",
    "Q3 = train_df['Weight'].quantile(0.75)\n",
    "IQR = Q3 - Q1\n",
    "\n",
    "outliers = train_df[(train_df['Weight'] < (Q1 - 1.5 * IQR)) | (train_df['Weight'] > (Q3 + 1.5 * IQR))]\n",
    "\n",
    "print(f\"Number of outliers in 'Weight': {len(outliers)}\")\n"
   ]
  },
  {
   "cell_type": "code",
   "execution_count": 45,
   "id": "401d5e49",
   "metadata": {
    "execution": {
     "iopub.execute_input": "2024-02-29T07:52:08.735152Z",
     "iopub.status.busy": "2024-02-29T07:52:08.734439Z",
     "iopub.status.idle": "2024-02-29T07:52:56.454661Z",
     "shell.execute_reply": "2024-02-29T07:52:56.453467Z"
    },
    "papermill": {
     "duration": 47.744151,
     "end_time": "2024-02-29T07:52:56.464208",
     "exception": false,
     "start_time": "2024-02-29T07:52:08.720057",
     "status": "completed"
    },
    "tags": []
   },
   "outputs": [
    {
     "name": "stdout",
     "output_type": "stream",
     "text": [
      "Ensemble Accuracy: 0.9061\n"
     ]
    }
   ],
   "source": [
    "from sklearn.ensemble import RandomForestClassifier, VotingClassifier\n",
    "from xgboost import XGBClassifier\n",
    "from sklearn.metrics import accuracy_score\n",
    "from sklearn.model_selection import train_test_split\n",
    "\n",
    "\n",
    "X = train_df.drop('NObeyesdad', axis=1)\n",
    "y = train_df['NObeyesdad']\n",
    "\n",
    "X_train, X_test, y_train, y_test = train_test_split(X, y, test_size=0.2, random_state=42)\n",
    "\n",
    "\n",
    "rf_clf = RandomForestClassifier(n_estimators=350,\n",
    "                                max_depth=7,\n",
    "                                min_samples_split=2,\n",
    "                                max_leaf_nodes=8, \n",
    "                                random_state=42)\n",
    "xgb_clf = XGBClassifier(use_label_encoder=False, \n",
    "                        learning_rate = 0.01,\n",
    "                        n_estimators = 2000,\n",
    "                        min_child_weight = 0.6,\n",
    "                        subsample = 0.2,\n",
    "                        eval_metric='mlogloss', random_state=42)\n",
    "\n",
    "voting_clf = VotingClassifier(\n",
    "    estimators=[('rf', rf_clf), ('xgb', xgb_clf)],\n",
    "    voting='soft'  \n",
    ")\n",
    "\n",
    "\n",
    "voting_clf.fit(X_train, y_train)\n",
    "\n",
    "\n",
    "predictions = voting_clf.predict(X_test)\n",
    "\n",
    "\n",
    "accuracy = accuracy_score(y_test, predictions)\n",
    "\n",
    "print(f\"Ensemble Accuracy: {accuracy:.4f}\")\n"
   ]
  },
  {
   "cell_type": "code",
   "execution_count": 46,
   "id": "f1db5cfc",
   "metadata": {
    "execution": {
     "iopub.execute_input": "2024-02-29T07:52:56.492621Z",
     "iopub.status.busy": "2024-02-29T07:52:56.492121Z",
     "iopub.status.idle": "2024-02-29T07:52:56.498547Z",
     "shell.execute_reply": "2024-02-29T07:52:56.497681Z"
    },
    "papermill": {
     "duration": 0.024576,
     "end_time": "2024-02-29T07:52:56.501616",
     "exception": false,
     "start_time": "2024-02-29T07:52:56.477040",
     "status": "completed"
    },
    "tags": []
   },
   "outputs": [
    {
     "name": "stdout",
     "output_type": "stream",
     "text": [
      "{'CALC_Always'} \n",
      "\n",
      " Index(['id', 'Gender', 'Age', 'Height', 'Weight',\n",
      "       'family_history_with_overweight', 'FAVC', 'FCVC', 'NCP', 'SMOKE',\n",
      "       'CH2O', 'SCC', 'FAF', 'TUE', 'NObeyesdad', 'CAEC_Always',\n",
      "       'CAEC_Frequently', 'CAEC_Sometimes', 'CAEC_no', 'CALC_Frequently',\n",
      "       'CALC_Sometimes', 'CALC_no', 'MTRANS_Automobile', 'MTRANS_Bike',\n",
      "       'MTRANS_Motorbike', 'MTRANS_Public_Transportation', 'MTRANS_Walking'],\n",
      "      dtype='object')\n"
     ]
    }
   ],
   "source": [
    "print(set(test_df.columns)-set(train_df.columns) , \"\\n\\n\",train_df.columns)"
   ]
  },
  {
   "cell_type": "code",
   "execution_count": 47,
   "id": "fb34c540",
   "metadata": {
    "execution": {
     "iopub.execute_input": "2024-02-29T07:52:56.530728Z",
     "iopub.status.busy": "2024-02-29T07:52:56.529927Z",
     "iopub.status.idle": "2024-02-29T07:52:59.140256Z",
     "shell.execute_reply": "2024-02-29T07:52:59.139250Z"
    },
    "papermill": {
     "duration": 2.628254,
     "end_time": "2024-02-29T07:52:59.143162",
     "exception": false,
     "start_time": "2024-02-29T07:52:56.514908",
     "status": "completed"
    },
    "tags": []
   },
   "outputs": [
    {
     "name": "stdout",
     "output_type": "stream",
     "text": [
      "      id          NObeyesdad\n",
      "0  20758     Obesity_Type_II\n",
      "1  20759  Overweight_Level_I\n",
      "2  20760    Obesity_Type_III\n",
      "3  20761      Obesity_Type_I\n",
      "4  20762    Obesity_Type_III\n"
     ]
    }
   ],
   "source": [
    "\n",
    "for col in X_train.columns:\n",
    "    if col not in test_df.columns:\n",
    "        test_df[col] = 0  \n",
    "\n",
    "test_df_aligned = test_df[X_train.columns]\n",
    "\n",
    "\n",
    "predictions_test_df = voting_clf.predict(test_df_aligned)\n",
    "\n",
    "predicted_labels = target_encoder.inverse_transform(predictions_test_df)\n",
    "\n",
    "test_df['NObeyesdad'] = predicted_labels\n",
    "\n",
    "final_output = test_df[['id', 'NObeyesdad']]\n",
    "\n",
    "\n",
    "print(final_output.head())\n"
   ]
  },
  {
   "cell_type": "code",
   "execution_count": 48,
   "id": "6faf6e0a",
   "metadata": {
    "execution": {
     "iopub.execute_input": "2024-02-29T07:52:59.176155Z",
     "iopub.status.busy": "2024-02-29T07:52:59.175321Z",
     "iopub.status.idle": "2024-02-29T07:52:59.212404Z",
     "shell.execute_reply": "2024-02-29T07:52:59.210994Z"
    },
    "papermill": {
     "duration": 0.055905,
     "end_time": "2024-02-29T07:52:59.215625",
     "exception": false,
     "start_time": "2024-02-29T07:52:59.159720",
     "status": "completed"
    },
    "tags": []
   },
   "outputs": [],
   "source": [
    "final_output.to_csv(\"Comp1_qc7205.csv\", index=False)"
   ]
  },
  {
   "cell_type": "code",
   "execution_count": null,
   "id": "de68e564",
   "metadata": {
    "papermill": {
     "duration": 0.01274,
     "end_time": "2024-02-29T07:52:59.513140",
     "exception": false,
     "start_time": "2024-02-29T07:52:59.500400",
     "status": "completed"
    },
    "tags": []
   },
   "outputs": [],
   "source": []
  },
  {
   "cell_type": "code",
   "execution_count": null,
   "id": "da63c921",
   "metadata": {
    "papermill": {
     "duration": 0.012663,
     "end_time": "2024-02-29T07:52:59.538644",
     "exception": false,
     "start_time": "2024-02-29T07:52:59.525981",
     "status": "completed"
    },
    "tags": []
   },
   "outputs": [],
   "source": []
  }
 ],
 "metadata": {
  "colab": {
   "provenance": []
  },
  "kaggle": {
   "accelerator": "none",
   "dataSources": [
    {
     "databundleVersionId": 7609535,
     "sourceId": 68479,
     "sourceType": "competition"
    }
   ],
   "dockerImageVersionId": 30664,
   "isGpuEnabled": false,
   "isInternetEnabled": true,
   "language": "python",
   "sourceType": "notebook"
  },
  "kernelspec": {
   "display_name": "Python 3 (ipykernel)",
   "language": "python",
   "name": "python3"
  },
  "language_info": {
   "codemirror_mode": {
    "name": "ipython",
    "version": 3
   },
   "file_extension": ".py",
   "mimetype": "text/x-python",
   "name": "python",
   "nbconvert_exporter": "python",
   "pygments_lexer": "ipython3",
   "version": "3.9.12"
  },
  "papermill": {
   "default_parameters": {},
   "duration": 59.113179,
   "end_time": "2024-02-29T07:53:00.843388",
   "environment_variables": {},
   "exception": null,
   "input_path": "__notebook__.ipynb",
   "output_path": "__notebook__.ipynb",
   "parameters": {},
   "start_time": "2024-02-29T07:52:01.730209",
   "version": "2.5.0"
  }
 },
 "nbformat": 4,
 "nbformat_minor": 5
}
